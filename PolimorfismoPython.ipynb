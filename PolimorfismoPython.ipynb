{
 "cells": [
  {
   "cell_type": "markdown",
   "metadata": {},
   "source": [
    "# Polimorfismo em POO Python"
   ]
  },
  {
   "cell_type": "markdown",
   "metadata": {},
   "source": [
    "O que é Polimorfismo?\n",
    "\n",
    "A palavra polimorfismo significa ter muitas formas. Na programação, polimorfismo significa o mesmo nome de função (mas assinaturas diferentes) sendo usado para tipos diferentes\n",
    "\n",
    "Exemplo:"
   ]
  },
  {
   "cell_type": "code",
   "execution_count": null,
   "metadata": {},
   "outputs": [],
   "source": [
    "len(\"Python\")\n",
    "len([10,20,30])"
   ]
  },
  {
   "cell_type": "markdown",
   "metadata": {},
   "source": [
    "# Polimorfismo com Herança"
   ]
  },
  {
   "cell_type": "markdown",
   "metadata": {},
   "source": [
    "Mesmo método com comportamento diferente:\n",
    "\n",
    "Na herança, a classe filha herda os métodos da classe pai. No entanto, é possível modificar um método em uma classe filha herdada da classe pai. Isso é particularmente útil nos casos em que o método herdado da classe pai não se encaixa perfeitamente na classe filha.\n",
    "\n",
    "Exemplo:"
   ]
  },
  {
   "cell_type": "code",
   "execution_count": 3,
   "metadata": {},
   "outputs": [
    {
     "name": "stdout",
     "output_type": "stream",
     "text": [
      "Voando\n",
      "Avestruz não voa\n"
     ]
    }
   ],
   "source": [
    "class Passaro:\n",
    "    def voar(self): \n",
    "        print(\"Voando\")\n",
    "    \n",
    "class Pardal(Passaro):\n",
    "    def voar(self):\n",
    "        super().voar()\n",
    "\n",
    "class Avestruz(Passaro):\n",
    "    def voar(self):\n",
    "        print(\"Avestruz não voa\")\n",
    "   \n",
    "   \n",
    "# FIXME: exemplo ruim do uso de herança para \"ganhar\" o método voar\n",
    "class Aviao(Passaro):\n",
    "    def voar(self):\n",
    "        print(\"O avião está decolando\")\n",
    "\n",
    "\n",
    "        \n",
    "def plano_de_voo(passaro):\n",
    "    passaro.voar()\n",
    "    \n",
    " \n",
    "plano_de_voo(Pardal())\n",
    "plano_de_voo(Avestruz()) "
   ]
  }
 ],
 "metadata": {
  "kernelspec": {
   "display_name": "Python 3",
   "language": "python",
   "name": "python3"
  },
  "language_info": {
   "codemirror_mode": {
    "name": "ipython",
    "version": 3
   },
   "file_extension": ".py",
   "mimetype": "text/x-python",
   "name": "python",
   "nbconvert_exporter": "python",
   "pygments_lexer": "ipython3",
   "version": "3.12.3"
  }
 },
 "nbformat": 4,
 "nbformat_minor": 2
}
