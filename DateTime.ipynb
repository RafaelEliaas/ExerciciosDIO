{
 "cells": [
  {
   "cell_type": "markdown",
   "metadata": {},
   "source": [
    "Exemplo de código datetime"
   ]
  },
  {
   "cell_type": "code",
   "execution_count": 11,
   "metadata": {},
   "outputs": [
    {
     "name": "stdout",
     "output_type": "stream",
     "text": [
      "2024-08-21\n",
      "2024-08-21\n",
      "2024-08-21 10:19:50\n",
      "2024-08-21 10:22:53.312209\n",
      "10:22:00\n"
     ]
    }
   ],
   "source": [
    "from datetime import date, datetime, time\n",
    "data = date(2024,8,21)\n",
    "print(data)\n",
    "\n",
    "print(date.today())\n",
    "\n",
    "data_hora = datetime(2024,8,21,10,19,50)\n",
    "print(data_hora)\n",
    "print(datetime.today())\n",
    "\n",
    "hora = time(10,22,0)\n",
    "print(hora)"
   ]
  },
  {
   "cell_type": "markdown",
   "metadata": {},
   "source": [
    "Manipulação de datas e horas"
   ]
  },
  {
   "cell_type": "code",
   "execution_count": 14,
   "metadata": {},
   "outputs": [
    {
     "name": "stdout",
     "output_type": "stream",
     "text": [
      "2024-08-21 10:48:30\n",
      "2024-08-28 10:48:30\n"
     ]
    }
   ],
   "source": [
    "import datetime\n",
    "d = datetime.datetime(2024,8,21,10,48,30)\n",
    "print(d)\n",
    "\n",
    "d = d + datetime.timedelta(weeks=1)\n",
    "print(d)"
   ]
  },
  {
   "cell_type": "code",
   "execution_count": 3,
   "metadata": {},
   "outputs": [
    {
     "name": "stdout",
     "output_type": "stream",
     "text": [
      "Carro entregue em: 2024-08-21 11:50:43.126176 e ficará pronto para retirada ás 2024-08-21 12:20:43.126176\n",
      "Operação inválida, por favor selecione novamente a operação desejada\n"
     ]
    }
   ],
   "source": [
    "from datetime import datetime, timedelta\n",
    "\n",
    "menu = f\"\"\"\n",
    "[P] Carro pequeno\n",
    "[M] Carro Médio\n",
    "[G] Carro Grande\n",
    "[Q] Sair do menu\n",
    " \n",
    "=> \"\"\"\n",
    "\n",
    "tempo_pequeno = 30\n",
    "tempo_medio = 45\n",
    "tempo_grande = 60\n",
    "\n",
    "data_atual = datetime.now()\n",
    "while True:\n",
    "    opcao = input(menu)\n",
    "    \n",
    "    \n",
    "    \n",
    "    if opcao == 'P':\n",
    "        data_estimada = data_atual + timedelta(minutes = tempo_pequeno) \n",
    "        print(f'Carro entregue em: {data_atual} e ficará pronto para retirada ás {data_estimada}')\n",
    "    elif opcao == 'M':\n",
    "            data_estimada = data_atual + timedelta(minutes = tempo_medio) \n",
    "            print(f'Carro entregue em: {data_atual} e ficará pronto para retirada ás {data_estimada}')\n",
    "    elif opcao == 'G':\n",
    "            data_estimada = data_atual + timedelta(minutes = tempo_grande) \n",
    "            print(f'Carro entregue em: {data_atual} e ficará pronto para retirada ás {data_estimada}')\n",
    "    elif opcao == 'Q':\n",
    "            break\n",
    "    else:\n",
    "        print(\"Operação inválida, por favor selecione novamente a operação desejada\")"
   ]
  },
  {
   "cell_type": "markdown",
   "metadata": {},
   "source": [
    "Conversão e formatação de data e hora\n"
   ]
  },
  {
   "cell_type": "code",
   "execution_count": 9,
   "metadata": {},
   "outputs": [
    {
     "name": "stdout",
     "output_type": "stream",
     "text": [
      "22/08/2024 Thu\n",
      "2024-08-22 08:11:00\n",
      "<class 'datetime.datetime'>\n"
     ]
    }
   ],
   "source": [
    "from datetime import datetime\n",
    "\n",
    "data_hora_atual = datetime.now()    \n",
    "data_hora_str = \"2024-08-22 8:11\"\n",
    "mascara_ptbr = \"%d/%m/%Y %a\"\n",
    "mascara_en = \"%Y-%m-%d %H:%M\"\n",
    "\n",
    "print(data_hora_atual.strftime(mascara_ptbr))\n",
    "\n",
    "print(datetime.strptime(data_hora_str, mascara_en)) #convertendo a string que está na variável 'data_hora_str' para datetime\n",
    "print(type(datetime.strptime(data_hora_str, mascara_en)))"
   ]
  },
  {
   "cell_type": "markdown",
   "metadata": {},
   "source": [
    "Trabalhando com Timezones"
   ]
  },
  {
   "cell_type": "code",
   "execution_count": 10,
   "metadata": {},
   "outputs": [
    {
     "name": "stdout",
     "output_type": "stream",
     "text": [
      "2024-08-22 21:37:38.330990+09:00\n"
     ]
    }
   ],
   "source": [
    "import pytz\n",
    "from datetime import datetime\n",
    "\n",
    "data = datetime.now(pytz.timezone('Japan'))\n",
    "\n",
    "print(data)"
   ]
  }
 ],
 "metadata": {
  "kernelspec": {
   "display_name": "Python 3",
   "language": "python",
   "name": "python3"
  },
  "language_info": {
   "codemirror_mode": {
    "name": "ipython",
    "version": 3
   },
   "file_extension": ".py",
   "mimetype": "text/x-python",
   "name": "python",
   "nbconvert_exporter": "python",
   "pygments_lexer": "ipython3",
   "version": "3.12.3"
  }
 },
 "nbformat": 4,
 "nbformat_minor": 2
}
