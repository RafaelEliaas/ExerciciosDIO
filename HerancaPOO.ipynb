{
 "cells": [
  {
   "cell_type": "markdown",
   "metadata": {},
   "source": [
    "# Herança em Programação Orientada a Objetos"
   ]
  },
  {
   "cell_type": "markdown",
   "metadata": {},
   "source": [
    "A henraça é a capacidade de uma classe filha derivar ou herdar as características e comportamentos da classe pai (base) "
   ]
  },
  {
   "cell_type": "markdown",
   "metadata": {},
   "source": [
    "Benefícios da herança:\n",
    "\n",
    "* Representa bem os relacionamentos do mundo real\n",
    "* Fornece reutilização de código, não precisamos escrever o mesmo código repetidamente. Além disso, permite adicionar mais recursos a uma classe sem modificá-la.\n",
    "* É de natureza transitiva, o que significa que, se a classe B herdar da classe A, todas as subclasses B herdarão automaticamente da classe A"
   ]
  },
  {
   "cell_type": "markdown",
   "metadata": {},
   "source": [
    "Sintaxe da Herança:"
   ]
  },
  {
   "cell_type": "code",
   "execution_count": null,
   "metadata": {},
   "outputs": [],
   "source": [
    "class A:\n",
    "    pass\n",
    "class B(A):\n",
    "    pass"
   ]
  },
  {
   "cell_type": "markdown",
   "metadata": {},
   "source": [
    "# Henraça Simples e Herança multipla"
   ]
  },
  {
   "cell_type": "markdown",
   "metadata": {},
   "source": [
    "Herança simples: Quando uma classe filha herda apenas uma classe pai, ela é chamada de herança simples."
   ]
  },
  {
   "cell_type": "markdown",
   "metadata": {},
   "source": [
    "Herança multipla: Quando uma classe filha herda de várias classes pai, ela é chamada de herança multipla."
   ]
  },
  {
   "cell_type": "code",
   "execution_count": null,
   "metadata": {},
   "outputs": [],
   "source": [
    "# Exemplo de Herança Simples \n",
    "class A:\n",
    "    pass\n",
    "class B(A):\n",
    "    pass"
   ]
  },
  {
   "cell_type": "code",
   "execution_count": null,
   "metadata": {},
   "outputs": [],
   "source": [
    "# Exemplo de Herança Multipla\n",
    "\n",
    "class A:\n",
    "    pass\n",
    "class B:\n",
    "    pass\n",
    "class C(A,B):\n",
    "    pass\n",
    "    "
   ]
  },
  {
   "cell_type": "markdown",
   "metadata": {},
   "source": [
    "# Herança simples"
   ]
  },
  {
   "cell_type": "code",
   "execution_count": 10,
   "metadata": {},
   "outputs": [
    {
     "name": "stdout",
     "output_type": "stream",
     "text": [
      "Motocicleta: cor=Preto, placa=ABC152, numero_de_rodas=2 rodas\n",
      "Carro: cor=Branco, placa=ASFR875, numero_de_rodas=4 rodas\n",
      "Caminhao: carregado=True\n"
     ]
    }
   ],
   "source": [
    "class Veiculo:\n",
    "    def __init__(self,cor,placa,numero_de_rodas):\n",
    "        self.cor = cor\n",
    "        self.placa = placa\n",
    "        self.numero_de_rodas = numero_de_rodas\n",
    "    \n",
    "    def ligar_motor(self):\n",
    "        print(\"Ligando motor\")\n",
    "    \n",
    "    def __str__(self):\n",
    "        return f\"{self.__class__.__name__}: {f', '.join([f'{chave}={valor}' for chave,valor in self. __dict__.items()])}\"\n",
    "\n",
    "class Motocicleta(Veiculo):\n",
    "    pass\n",
    "\n",
    "class Carro(Veiculo):\n",
    "    pass\n",
    "\n",
    "class Caminhao(Veiculo):\n",
    "    def __init__(self,cor,placa,numero_de_rodas,carregado,):\n",
    "        self.carregado = carregado\n",
    "     \n",
    "    def esta_carregado(self):\n",
    "        print(f\"{'sim' if self.carregado else 'não'} estou carregado \")\n",
    "\n",
    "\n",
    "moto = Motocicleta(\"Preto\",\"ABC152\",\"2 rodas\")\n",
    "carro = Carro(\"Branco\",\"ASFR875\",\"4 rodas\")\n",
    "caminhao = Caminhao(\"Preto\",\"QQE485\",\"8 rodas\", True)\n",
    "\n",
    "print(moto)\n",
    "print(carro)\n",
    "print(caminhao)\n"
   ]
  },
  {
   "cell_type": "markdown",
   "metadata": {},
   "source": [
    "# Herança multipla"
   ]
  },
  {
   "cell_type": "code",
   "execution_count": 21,
   "metadata": {},
   "outputs": [
    {
     "name": "stdout",
     "output_type": "stream",
     "text": [
      "Gato: cor_pelo=Preto, num_patas=4\n",
      "(4, 'Marrom', 'Preto')\n"
     ]
    }
   ],
   "source": [
    "class Animal():\n",
    "    def __init__(self,num_patas) -> None:\n",
    "        self.num_patas = num_patas\n",
    "    \n",
    "    def __str__(self):\n",
    "        return f\"{self.__class__.__name__}: {f', '.join([f'{chave}={valor}' for chave,valor in self. __dict__.items()])}\"\n",
    "\n",
    "class Mamifero(Animal):\n",
    "    def __init__(self,cor_pelo, **kw) -> None:\n",
    "        self.cor_pelo = cor_pelo\n",
    "        super().__init__(**kw)\n",
    "        \n",
    "\n",
    "class Ave(Animal):\n",
    "    def __init__(self,cor_bico, **kw) -> None:\n",
    "        self.cor_bico = cor_bico\n",
    "        super().__init__(**kw)\n",
    "\n",
    "class Cachorro(Mamifero):\n",
    "    pass\n",
    "\n",
    "class Gato(Mamifero):\n",
    "    pass\n",
    "\n",
    "class Leao(Mamifero):\n",
    "    pass\n",
    "\n",
    "class Ornitorrinco(Mamifero, Ave):\n",
    "    def __init__(self, cor_bico,cor_pelo, num_patas ) -> None:\n",
    "        super().__init__(cor_bico,cor_pelo,num_patas)\n",
    "\n",
    "\n",
    "\n",
    "gato = Gato(num_patas = 4,cor_pelo= \"Preto\")\n",
    "print(gato)\n",
    "\n",
    "ornitorrinco = Ornitorrinco = (4,\"Marrom\",\"Preto\")\n",
    "print(ornitorrinco)"
   ]
  }
 ],
 "metadata": {
  "kernelspec": {
   "display_name": "Python 3",
   "language": "python",
   "name": "python3"
  },
  "language_info": {
   "codemirror_mode": {
    "name": "ipython",
    "version": 3
   },
   "file_extension": ".py",
   "mimetype": "text/x-python",
   "name": "python",
   "nbconvert_exporter": "python",
   "pygments_lexer": "ipython3",
   "version": "3.12.3"
  }
 },
 "nbformat": 4,
 "nbformat_minor": 2
}
