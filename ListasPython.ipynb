{
 "cells": [
  {
   "cell_type": "markdown",
   "metadata": {},
   "source": [
    "# Entender o funcionamento da estrutura de dados Lista"
   ]
  },
  {
   "cell_type": "markdown",
   "metadata": {},
   "source": [
    "Exemplo:"
   ]
  },
  {
   "cell_type": "code",
   "execution_count": 11,
   "metadata": {},
   "outputs": [
    {
     "name": "stdout",
     "output_type": "stream",
     "text": [
      "['Laranja', 'Uva', 'Maçã']\n",
      "[]\n",
      "['P', 'y', 't', 'h', 'o', 'n']\n",
      "[0, 1, 2, 3, 4, 5, 6, 7, 8, 9]\n",
      "['Nissan', 'GTR-R34', 1000000, 1999, 7000, 'Anápolis - GO', True]\n"
     ]
    }
   ],
   "source": [
    "frutas = [\"Laranja\", \"Uva\", \"Maçã\"] #Utilizando os colchetes podemos fazer uma lista\n",
    "print(frutas)\n",
    "\n",
    "frutas = [] #Neste caso teremos uma lista vazia \n",
    "print(frutas)\n",
    "\n",
    "letras = list(\"Python\") #Utilizando o comando 'list' ele irá criar uma lista com os caracteres da palavra 'Python'\n",
    "print(letras)\n",
    "\n",
    "numeros = list(range(10)) #Neste caso o comando 'range' irá gerar uma lista de  números de 0 a 9\n",
    "print(numeros)\n",
    "\n",
    "carro = [\"Nissan\", \"GTR-R34\", 1000000, 1999, 7000, \"Anápolis - GO\", True]\n",
    "print(carro)"
   ]
  },
  {
   "cell_type": "markdown",
   "metadata": {},
   "source": [
    "# Acesso direto aos valores da lista"
   ]
  },
  {
   "cell_type": "markdown",
   "metadata": {},
   "source": [
    "Exemplo"
   ]
  },
  {
   "cell_type": "code",
   "execution_count": 12,
   "metadata": {},
   "outputs": [
    {
     "data": {
      "text/plain": [
       "'Uva'"
      ]
     },
     "execution_count": 12,
     "metadata": {},
     "output_type": "execute_result"
    }
   ],
   "source": [
    "frutas = [\"Banana\", \"Maçã\", \"Uva\", \"Limão\"]\n",
    "frutas[0] #Banana\n",
    "frutas[2] #Uva"
   ]
  },
  {
   "cell_type": "markdown",
   "metadata": {},
   "source": [
    "Indices Negativos"
   ]
  },
  {
   "cell_type": "code",
   "execution_count": 13,
   "metadata": {},
   "outputs": [
    {
     "data": {
      "text/plain": [
       "'Maçã'"
      ]
     },
     "execution_count": 13,
     "metadata": {},
     "output_type": "execute_result"
    }
   ],
   "source": [
    "frutas = [\"Banana\", \"Maçã\", \"Uva\", \"Limão\"]\n",
    "frutas[-1] #Limão\n",
    "frutas[-3] #Maçã"
   ]
  },
  {
   "cell_type": "markdown",
   "metadata": {},
   "source": [
    "Listas aninhadas \n",
    "\n",
    "Exemplo:"
   ]
  },
  {
   "cell_type": "code",
   "execution_count": 14,
   "metadata": {},
   "outputs": [
    {
     "data": {
      "text/plain": [
       "6"
      ]
     },
     "execution_count": 14,
     "metadata": {},
     "output_type": "execute_result"
    }
   ],
   "source": [
    "matriz = [\n",
    "    [1,\"a\",2],\n",
    "    [3,\"b\",4],\n",
    "    [5,\"c\",6]\n",
    "] # matriz 3x3\n",
    "\n",
    "matriz[0] #[1,\"a\",2]\n",
    "matriz[0][0] # 1\n",
    "matriz[0][-1] # 2\n",
    "matriz[-1][-1] # \"6\""
   ]
  },
  {
   "cell_type": "markdown",
   "metadata": {},
   "source": [
    "# Fatiamento"
   ]
  },
  {
   "cell_type": "code",
   "execution_count": 15,
   "metadata": {},
   "outputs": [
    {
     "data": {
      "text/plain": [
       "['n', 'o', 'h', 't', 'y', 'P']"
      ]
     },
     "execution_count": 15,
     "metadata": {},
     "output_type": "execute_result"
    }
   ],
   "source": [
    "lista = list(\"Python\")\n",
    "\n",
    "lista[2:] #['t','h','o','n']\n",
    "lista[:2] #['P','y']\n",
    "lista[1:3] #['y','t']\n",
    "lista[0:3:2] #['P','t']\n",
    "lista[::] #['P','y','t','h','o','n']\n",
    "lista[::-1] #['n','o','h','t','y','P']"
   ]
  },
  {
   "cell_type": "markdown",
   "metadata": {},
   "source": [
    "# Iterar Listas"
   ]
  },
  {
   "cell_type": "code",
   "execution_count": 16,
   "metadata": {},
   "outputs": [
    {
     "name": "stdout",
     "output_type": "stream",
     "text": [
      "Gol\n",
      "Celta\n",
      "Palio\n"
     ]
    }
   ],
   "source": [
    "carros = ['Gol','Celta','Palio']\n",
    "\n",
    "for carro in carros:\n",
    "    print(carro)"
   ]
  },
  {
   "cell_type": "markdown",
   "metadata": {},
   "source": [
    "# Função enumerate"
   ]
  },
  {
   "cell_type": "code",
   "execution_count": 17,
   "metadata": {},
   "outputs": [
    {
     "name": "stdout",
     "output_type": "stream",
     "text": [
      "0: Gol\n",
      "1: Celta\n",
      "2: Palio\n"
     ]
    }
   ],
   "source": [
    "carros = ['Gol','Celta','Palio']\n",
    "\n",
    "for indice, carro in enumerate(carros):\n",
    "    print(f\"{indice}: {carro}\")"
   ]
  },
  {
   "cell_type": "markdown",
   "metadata": {},
   "source": [
    "# Compreenção de listas"
   ]
  },
  {
   "cell_type": "markdown",
   "metadata": {},
   "source": [
    "Filtro versão 1"
   ]
  },
  {
   "cell_type": "code",
   "execution_count": 18,
   "metadata": {},
   "outputs": [],
   "source": [
    "numeros = [1, 30, 21, 2, 9, 65, 34]\n",
    "pares = []\n",
    "\n",
    "for numero in numeros:\n",
    "    if numero % 2 == 0:\n",
    "        pares.append(numero)"
   ]
  },
  {
   "cell_type": "markdown",
   "metadata": {},
   "source": [
    "Modificando valores da versão 1"
   ]
  },
  {
   "cell_type": "code",
   "execution_count": 19,
   "metadata": {},
   "outputs": [],
   "source": [
    "numeros = [1, 30, 21, 2, 9, 65, 34]\n",
    "quadrado = []\n",
    "\n",
    "for numero in numeros:\n",
    "    quadrado.append(numero ** 2)"
   ]
  },
  {
   "cell_type": "markdown",
   "metadata": {},
   "source": [
    "Filtro Versão 2"
   ]
  },
  {
   "cell_type": "code",
   "execution_count": 20,
   "metadata": {},
   "outputs": [],
   "source": [
    "numeros = [1, 30, 21, 2, 9, 65, 34]\n",
    "pares = [numero for numero in numeros if numero % 2 ==0]"
   ]
  },
  {
   "cell_type": "markdown",
   "metadata": {},
   "source": [
    "Modificando os valores da versão 2"
   ]
  },
  {
   "cell_type": "code",
   "execution_count": 21,
   "metadata": {},
   "outputs": [],
   "source": [
    "numeros = [1, 30, 21, 2, 9, 65, 34]\n",
    "quadrado = [numero ** 2 for numero in numeros]"
   ]
  }
 ],
 "metadata": {
  "kernelspec": {
   "display_name": "Python 3",
   "language": "python",
   "name": "python3"
  },
  "language_info": {
   "codemirror_mode": {
    "name": "ipython",
    "version": 3
   },
   "file_extension": ".py",
   "mimetype": "text/x-python",
   "name": "python",
   "nbconvert_exporter": "python",
   "pygments_lexer": "ipython3",
   "version": "3.12.3"
  }
 },
 "nbformat": 4,
 "nbformat_minor": 2
}
