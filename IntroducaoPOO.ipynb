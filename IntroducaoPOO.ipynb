{
 "cells": [
  {
   "cell_type": "markdown",
   "metadata": {},
   "source": [
    "# Programação orientada a objetos"
   ]
  },
  {
   "cell_type": "markdown",
   "metadata": {},
   "source": [
    "O paradigma de programação orientada a objetos estrutura o código abstraindo o problema em objetos do mundo real, facilitando o entendimento do código e tornando-o mais modular e extensível. Os dois conceitos chaves para aprender POO são: Classes e Objetos"
   ]
  },
  {
   "cell_type": "markdown",
   "metadata": {},
   "source": [
    "# Classes e Objetos"
   ]
  },
  {
   "cell_type": "markdown",
   "metadata": {},
   "source": [
    "Conceitos: \n",
    "\n",
    "Uma classe define as características e comportamentos de um objeto, porém não conseguimos usá-las diretamente. \n",
    "\n",
    "Já os objetos podemos usá-los e eles possuem as características e comportamentos que foram definidos nas classes."
   ]
  },
  {
   "cell_type": "markdown",
   "metadata": {},
   "source": [
    "Exemplo:"
   ]
  },
  {
   "cell_type": "code",
   "execution_count": 12,
   "metadata": {},
   "outputs": [
    {
     "name": "stdout",
     "output_type": "stream",
     "text": [
      "AU AU AU\n",
      "True\n",
      "Zzzzz...\n",
      "False\n"
     ]
    }
   ],
   "source": [
    "#Primeiro a Classe:\n",
    "\n",
    "class Cachorro:\n",
    "    def __init__(self, nome, cor, acordado=True):\n",
    "        self.nome = nome\n",
    "        self.cor = cor\n",
    "        self.acordado = acordado\n",
    "    \n",
    "    def latir(self):\n",
    "        print(\"AU AU AU\")\n",
    "        \n",
    "    def dormir(self):\n",
    "        self.acordado = False\n",
    "        print(\"Zzzzz...\")  \n",
    "      \n",
    "#Agora o Objeto:    \n",
    "        \n",
    "cao_1 = Cachorro(\"Lilo\", \"Caramelo\", False)\n",
    "cao_2 = Cachorro(\"Luli\", \"Branco e cinza\")\n",
    "\n",
    "cao_1.latir()\n",
    "\n",
    "print(cao_2.acordado)\n",
    "cao_2.dormir()\n",
    "print(cao_2.acordado)        \n",
    "       \n",
    "    "
   ]
  },
  {
   "cell_type": "markdown",
   "metadata": {},
   "source": [
    "# Desafio:"
   ]
  },
  {
   "cell_type": "code",
   "execution_count": 13,
   "metadata": {},
   "outputs": [
    {
     "name": "stdout",
     "output_type": "stream",
     "text": [
      "Prim Prim Prim!!!\n",
      "Vrummmmm\n",
      "Parando bicicleta\n",
      "Bicicleta parada\n",
      "BMX Preta 1000\n"
     ]
    }
   ],
   "source": [
    "class bicicleta:\n",
    "    def __init__(self,cor,modelo,ano,valor): #self representa a instância do objeto\n",
    "        self.cor = cor\n",
    "        self.modelo = modelo\n",
    "        self.ano = ano\n",
    "        self.valor = valor\n",
    "    \n",
    "    def buzinar(self): \n",
    "        print(\"Prim Prim Prim!!!\")\n",
    "        \n",
    "    def parar(self):\n",
    "        print(\"Parando bicicleta\")\n",
    "        print(\"Bicicleta parada\")\n",
    "        \n",
    "    def correr(self):\n",
    "        print(\"Vrummmmm\")\n",
    "        \n",
    "    def __str__(self):\n",
    "        return f\"{self.__class__.__name__}: {f', '.join([f'{chave}={valor}' for chave,valor in self. __dict__.items()])}\"\n",
    "        \n",
    "        \n",
    "b1 = bicicleta(\"Preta\", \"BMX\", 2020, 1000)\n",
    "b1.buzinar()\n",
    "b1.correr()\n",
    "b1.parar()\n",
    "\n",
    "print(b1.modelo, b1.cor, b1.valor)"
   ]
  },
  {
   "cell_type": "markdown",
   "metadata": {},
   "source": [
    "# Construtores e Destrutores"
   ]
  },
  {
   "cell_type": "markdown",
   "metadata": {},
   "source": [
    "Método contrutor\n",
    "\n",
    "O método contrutor sempre é executado quando uma nova instância de classe é criada. Nesse método inicializamos o estado do nosso objeto. Para declarar o método contrutor de uma classe, criamos um método com o nome \"_ _init__\""
   ]
  },
  {
   "cell_type": "markdown",
   "metadata": {},
   "source": [
    "Método Destrutor\n",
    "\n",
    "O método destrutor sempre é usado quando uma instância (objeto) é destruida. Destrutores em python não são tão necessários quanto em C++ porque o python tem um coletor de lixo que lida com o gerenciamento de memória automáticamente. Para declarar o método destrutor da classe, criamos um método com o nome de \" _ _del_ _\""
   ]
  },
  {
   "cell_type": "markdown",
   "metadata": {},
   "source": [
    "Exemplos:"
   ]
  },
  {
   "cell_type": "code",
   "execution_count": 17,
   "metadata": {},
   "outputs": [
    {
     "name": "stdout",
     "output_type": "stream",
     "text": [
      "Inicializando a classe\n",
      "Luli\n",
      "Removendo a instância da classe.\n"
     ]
    }
   ],
   "source": [
    "class Cachorro:\n",
    "    def __init__(self, nome, cor, acordado=True):\n",
    "        print(\"Inicializando a classe\")\n",
    "        \n",
    "        self.nome = nome\n",
    "        self.cor = cor\n",
    "        self.acordado = acordado\n",
    "        \n",
    "    def latir(self):\n",
    "        print(\"AuAuAu\")\n",
    "   \n",
    "    def criar_cachorro():\n",
    "        c = Cachorro(\"Luli\", \"Marrom\", False) \n",
    "        print(c.nome)   \n",
    "\n",
    "    def __del__(self):\n",
    "        print(\"Removendo a instância da classe.\")\n",
    "#c = Cachorro(\"Lilo\", \"Amarelado\") \n",
    "#c.latir()\n",
    "\n",
    "    criar_cachorro()"
   ]
  }
 ],
 "metadata": {
  "kernelspec": {
   "display_name": "Python 3",
   "language": "python",
   "name": "python3"
  },
  "language_info": {
   "codemirror_mode": {
    "name": "ipython",
    "version": 3
   },
   "file_extension": ".py",
   "mimetype": "text/x-python",
   "name": "python",
   "nbconvert_exporter": "python",
   "pygments_lexer": "ipython3",
   "version": "3.12.3"
  }
 },
 "nbformat": 4,
 "nbformat_minor": 2
}
