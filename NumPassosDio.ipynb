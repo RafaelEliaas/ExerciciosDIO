{
 "cells": [
  {
   "cell_type": "code",
   "execution_count": null,
   "metadata": {},
   "outputs": [],
   "source": [
    "quantidade_passos = int(input(''))\n",
    "\n",
    "if quantidade_passos < 0:\n",
    "  print (\"O número de passos digitato é negativa! Tente novamente utiizando números positivos\")\n",
    " \n",
    "if quantidade_passos == 0:\n",
    "    print ('Nenhum passo dado na floresta.') \n",
    "    \n",
    "for num in range(1, quantidade_passos+1):\n",
    "    if num == 1:\n",
    "        print (f'Explorador: {num} passo')\n",
    "    else:\n",
    "        print (f'Explorador: {num} passos')\n",
    "        \n",
    "        \n",
    "   \n",
    "         \n",
    "\n",
    "  \n"
   ]
  }
 ],
 "metadata": {
  "kernelspec": {
   "display_name": "Python 3",
   "language": "python",
   "name": "python3"
  },
  "language_info": {
   "codemirror_mode": {
    "name": "ipython",
    "version": 3
   },
   "file_extension": ".py",
   "mimetype": "text/x-python",
   "name": "python",
   "nbconvert_exporter": "python",
   "pygments_lexer": "ipython3",
   "version": "3.12.2"
  }
 },
 "nbformat": 4,
 "nbformat_minor": 2
}
