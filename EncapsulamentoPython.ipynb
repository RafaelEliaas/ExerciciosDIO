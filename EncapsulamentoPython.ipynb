{
 "cells": [
  {
   "cell_type": "markdown",
   "metadata": {},
   "source": [
    "# Encapsulamento em Programação Orientada a Objetos"
   ]
  },
  {
   "cell_type": "markdown",
   "metadata": {},
   "source": [
    "O encapsulamento é um dos conceitos fundamentais em programação orientada a objetos. Ele descreve a ideia de agrupar dados e os métodos que manipulam esses dados em uma unidade. Isso impõe restrições ao acesso direto a variáveis e métodos e pode evitar a modificação acidental de dados. Para evitar modificações acidentais, a variável de um objeto só pode ser alterada pelo método desse objeto "
   ]
  },
  {
   "cell_type": "markdown",
   "metadata": {},
   "source": [
    "# Recursos Públicos e Privados"
   ]
  },
  {
   "cell_type": "markdown",
   "metadata": {},
   "source": [
    "Modificadores de acesso: \n",
    "\n",
    "Em linguagens como Java e C++, existem palavras para definir o nível de acesso aos atributos e métodos da classe. Em Python não temos palavras reservadas, porém usamos convenções nos nomes do recurso, para definir se a variável é pública ou privada "
   ]
  },
  {
   "cell_type": "markdown",
   "metadata": {},
   "source": [
    "Definição:\n",
    "\n",
    "* Público: Pode ser acessado de fora da classe \n",
    "* Privado: Só pode ser acessado de fora da classe "
   ]
  },
  {
   "cell_type": "markdown",
   "metadata": {},
   "source": [
    "Público/Privado:\n",
    "\n",
    "Todos os recursos, a menos que o nome inicie com underline. Ou seja, o interpretador Python mão irá garantir a proteção do recurso, mas por ser uma convenção amplamente adotada na comunidade, quando encontramos uma variável e/ou método com o nome iniciado com underline, sabemos que não deveríamos manipular o seu valor diretamente, ou invocar o método fora do escopo da classe "
   ]
  },
  {
   "cell_type": "markdown",
   "metadata": {},
   "source": [
    "Exemplo:"
   ]
  },
  {
   "cell_type": "code",
   "execution_count": 6,
   "metadata": {},
   "outputs": [
    {
     "name": "stdout",
     "output_type": "stream",
     "text": [
      "001\n",
      "200\n"
     ]
    }
   ],
   "source": [
    "class Conta:\n",
    "    def __init__(self, num_agencia,saldo=0):\n",
    "        self._saldo = saldo #  o _ na frente do saldo convenciona que o saldo não pode ser chamado externamente \n",
    "        self.num_agencia = num_agencia\n",
    "        \n",
    "    def depositar(self,valor):\n",
    "        self._saldo += valor \n",
    "    \n",
    "    def sacar(self,valor):\n",
    "        self._saldo -= valor\n",
    "    \n",
    "    def mostrar_saldo(self):\n",
    "        return self._saldo\n",
    "    \n",
    "conta = Conta(\"001\", 100)\n",
    "conta.depositar(100)\n",
    "print(conta.num_agencia)\n",
    "print(conta.mostrar_saldo())"
   ]
  },
  {
   "cell_type": "markdown",
   "metadata": {},
   "source": [
    "# Propriedades"
   ]
  },
  {
   "cell_type": "markdown",
   "metadata": {},
   "source": [
    "Para que servem?\n",
    "\n",
    "Com o property() do Python, você pode criar atributos gerenciados em suas classes. Você pode usar atributos gerenciados, também conhecidos como propriedades, quando precisar modificar sua implementação interna sem alterar a API pública da classe\n",
    "\n",
    "Exemplo:"
   ]
  },
  {
   "cell_type": "code",
   "execution_count": 7,
   "metadata": {},
   "outputs": [
    {
     "name": "stdout",
     "output_type": "stream",
     "text": [
      "10\n",
      "20\n",
      "-1\n"
     ]
    }
   ],
   "source": [
    "class Foo:\n",
    "    def __init__(self, x=None) -> None:\n",
    "        self._x = x\n",
    "    \n",
    "    @property\n",
    "    def x(self):\n",
    "        return self._x or 0\n",
    "    \n",
    "    @x.setter\n",
    "    def x(self,value):\n",
    "        _x = self._x or 0\n",
    "        _value = value or 0\n",
    "        self._x = _x + _value\n",
    "    \n",
    "    @x.deleter    \n",
    "    def x(self):\n",
    "        self._x = -1\n",
    "        \n",
    "foo = Foo(10)\n",
    "print(foo.x)\n",
    "foo.x = 10\n",
    "print(foo.x)\n",
    "del foo.x\n",
    "print(foo.x)"
   ]
  },
  {
   "cell_type": "code",
   "execution_count": 9,
   "metadata": {},
   "outputs": [
    {
     "name": "stdout",
     "output_type": "stream",
     "text": [
      "Nome: Rafael \tIdade: 24\n"
     ]
    }
   ],
   "source": [
    "class Pessoa:\n",
    "    def __init__(self, nome, ano_nascimento) -> None:\n",
    "        self._nome = nome\n",
    "        self._ano_nascimento = ano_nascimento\n",
    "    \n",
    "    @property\n",
    "    def nome(self):\n",
    "        return self._nome\n",
    "    \n",
    "    @property\n",
    "    def idade(self):\n",
    "        _ano_atual = 2024\n",
    "        return _ano_atual - self._ano_nascimento\n",
    "    \n",
    "pessoa = Pessoa(\"Rafael\", 2000)\n",
    "print(f'Nome: {pessoa.nome} \\tIdade: {pessoa.idade}') "
   ]
  }
 ],
 "metadata": {
  "kernelspec": {
   "display_name": "Python 3",
   "language": "python",
   "name": "python3"
  },
  "language_info": {
   "codemirror_mode": {
    "name": "ipython",
    "version": 3
   },
   "file_extension": ".py",
   "mimetype": "text/x-python",
   "name": "python",
   "nbconvert_exporter": "python",
   "pygments_lexer": "ipython3",
   "version": "3.12.3"
  }
 },
 "nbformat": 4,
 "nbformat_minor": 2
}
