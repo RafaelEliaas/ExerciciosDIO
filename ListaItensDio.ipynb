{
 "cells": [
  {
   "cell_type": "code",
   "execution_count": 3,
   "metadata": {},
   "outputs": [
    {
     "name": "stdout",
     "output_type": "stream",
     "text": [
      "Lista de itens:\n",
      "- pedra\n",
      "- papel\n",
      "- tesoura\n"
     ]
    }
   ],
   "source": [
    "item1 = input('')\n",
    "item2 = input('')\n",
    "item3 = input('')\n",
    "itens = [item1, item2, item3]\n",
    "\n",
    "\n",
    "print(\"Lista de itens:\")\n",
    "for item in itens:\n",
    "    print(f\"- {item}\")"
   ]
  }
 ],
 "metadata": {
  "kernelspec": {
   "display_name": "Python 3",
   "language": "python",
   "name": "python3"
  },
  "language_info": {
   "codemirror_mode": {
    "name": "ipython",
    "version": 3
   },
   "file_extension": ".py",
   "mimetype": "text/x-python",
   "name": "python",
   "nbconvert_exporter": "python",
   "pygments_lexer": "ipython3",
   "version": "3.12.2"
  }
 },
 "nbformat": 4,
 "nbformat_minor": 2
}
